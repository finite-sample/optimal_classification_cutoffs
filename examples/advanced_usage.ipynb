{
 "cells": [
  {
   "cell_type": "markdown",
   "id": "7fb27b941602401d91542211134fc71a",
   "metadata": {},
   "source": [
    "# Advanced Threshold Optimization\n",
    "This notebook demonstrates optimizing probability thresholds using synthetic data and scikit-learn."
   ]
  },
  {
   "cell_type": "code",
   "execution_count": null,
   "id": "acae54e37e7d407bbb7b55eff062a284",
   "metadata": {},
   "outputs": [],
   "source": [
    "from sklearn.datasets import make_classification\n",
    "from sklearn.linear_model import LogisticRegression\n",
    "\n",
    "from optimal_cutoffs import ThresholdOptimizer, get_probability"
   ]
  },
  {
   "cell_type": "code",
   "execution_count": null,
   "id": "9a63283cbaf04dbcab1f6479b197f3a8",
   "metadata": {},
   "outputs": [],
   "source": [
    "X, y = make_classification(n_samples=200, n_features=5, random_state=0)\n",
    "model = LogisticRegression().fit(X, y)\n",
    "proba = model.predict_proba(X)[:, 1]\n"
   ]
  },
  {
   "cell_type": "code",
   "execution_count": null,
   "id": "8dd0d8092fe74a7c96281538738b07e2",
   "metadata": {},
   "outputs": [],
   "source": [
    "# Compare thresholds for accuracy and F1\n",
    "thr_acc = get_probability(y, proba, objective='accuracy')\n",
    "thr_f1 = get_probability(y, proba, objective='f1')\n",
    "print(f'Accuracy threshold: {thr_acc:.2f}')\n",
    "print(f'F1 threshold: {thr_f1:.2f}')\n",
    "opt = ThresholdOptimizer(objective='f1').fit(y, proba)\n",
    "pred = opt.predict(proba)\n",
    "print('Predictions sample:', pred[:10])\n"
   ]
  }
 ],
 "metadata": {
  "kernelspec": {
   "display_name": "Python 3",
   "language": "python",
   "name": "python3"
  },
  "language_info": {
   "name": "python",
   "version": "3.10"
  }
 },
 "nbformat": 4,
 "nbformat_minor": 5
}