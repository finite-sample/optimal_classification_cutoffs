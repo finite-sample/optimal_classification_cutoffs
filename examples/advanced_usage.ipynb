{
 "cells": [
  {
   "cell_type": "markdown",
   "metadata": {},
   "source": [
    "# Advanced Threshold Optimization\n",
    "This notebook demonstrates optimizing probability thresholds using synthetic data and scikit-learn." ]
  },
  {
   "cell_type": "code",
   "execution_count": null,
   "metadata": {},
   "outputs": [],
   "source": [
    "import numpy as np\n",
    "from sklearn.datasets import make_classification\n",
    "from sklearn.linear_model import LogisticRegression\n",
    "from optimal_cut_offs import ThresholdOptimizer, get_probability\n" ]
  },
  {
   "cell_type": "code",
   "execution_count": null,
   "metadata": {},
   "outputs": [],
   "source": [
    "X, y = make_classification(n_samples=200, n_features=5, random_state=0)\n",
    "model = LogisticRegression().fit(X, y)\n",
    "proba = model.predict_proba(X)[:, 1]\n" ]
  },
  {
   "cell_type": "code",
   "execution_count": null,
   "metadata": {},
   "outputs": [],
   "source": [
    "# Compare thresholds for accuracy and F1\n",
    "thr_acc = get_probability(y, proba, objective='accuracy')\n",
    "thr_f1 = get_probability(y, proba, objective='f1')\n",
    "print(f'Accuracy threshold: {thr_acc:.2f}')\n",
    "print(f'F1 threshold: {thr_f1:.2f}')\n",
    "opt = ThresholdOptimizer(objective='f1').fit(y, proba)\n",
    "pred = opt.predict(proba)\n",
    "print('Predictions sample:', pred[:10])\n" ]
  }
 ],
 "metadata": {
  "kernelspec": {
   "display_name": "Python 3",
   "language": "python",
   "name": "python3"
  },
  "language_info": {
   "name": "python",
   "version": "3.10"
  }
 },
 "nbformat": 4,
 "nbformat_minor": 5
}
