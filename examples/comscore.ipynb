{
 "cells": [
  {
   "cell_type": "markdown",
   "metadata": {},
   "source": [
    "## Consumption of Pornographic Content by Age and Education"
   ]
  },
  {
   "cell_type": "code",
   "execution_count": 1,
   "metadata": {},
   "outputs": [],
   "source": [
    "import pandas as pd"
   ]
  },
  {
   "cell_type": "markdown",
   "metadata": {},
   "source": [
    "### Load Data\n",
    "\n",
    "The 2004 comScore data are already grouped by machine_id and domain_name. The data has four columns: \n",
    "a. machine_id, \n",
    "b. domain_name, \n",
    "c. total duration of visits to the site, \n",
    "d. number of visits\n",
    "\n",
    "Each row gives the total visits to and total duration spent on a domain.\n",
    "\n",
    "We merge this with data from pydomains and the Trusted Source API. We then calculate the time spent on and total visits to pornographic domains based on a variety of measures. We also create two other columns that track proportion of visits, and proportion of time."
   ]
  },
  {
   "cell_type": "code",
   "execution_count": 2,
   "metadata": {},
   "outputs": [],
   "source": [
    "YEAR = 2004"
   ]
  },
  {
   "cell_type": "code",
   "execution_count": 3,
   "metadata": {},
   "outputs": [],
   "source": [
    "# Read in data\n",
    "idf = pd.read_csv('/opt/comscore/pydomains/app2/cs%04d_grp_machine_domain.csv.bz2' % YEAR)"
   ]
  },
  {
   "cell_type": "code",
   "execution_count": 4,
   "metadata": {},
   "outputs": [],
   "source": [
    "# Load the pydomains data\n",
    "pydom_df = pd.read_csv('/opt/comscore/pydomains/cs%04d_unique_domains_pydomains.csv.bz2' % YEAR, usecols=['domain_names', 'shalla_2017_cat', 'pred_shalla_2017_lab', 'pred_shalla_2017_prob_porn', 'pred_toulouse_2017_prob_adult'], encoding='latin1')\n",
    "# rename column\n",
    "pydom_df.rename(columns={'domain_names': 'domain_name'}, inplace=True)"
   ]
  },
  {
   "cell_type": "code",
   "execution_count": 5,
   "metadata": {},
   "outputs": [],
   "source": [
    "# Load trusted data\n",
    "tdf = pd.read_csv('/opt/comscore/pydomains/comScore_unique_2004.csv')\n",
    "# rename column\n",
    "tdf.rename(columns={'unique_url': 'domain_name', 'url_class': 'trusted_cat'}, inplace=True)"
   ]
  },
  {
   "cell_type": "markdown",
   "metadata": {},
   "source": [
    "### Left join Trusted Source and PyDomains"
   ]
  },
  {
   "cell_type": "code",
   "execution_count": 6,
   "metadata": {},
   "outputs": [],
   "source": [
    "# Left join with pydomain\n",
    "pdf = idf.merge(pydom_df, how='left', on='domain_name')\n",
    "\n",
    "# Left join with Trusted\n",
    "pdf = pdf.merge(tdf, how='left', on='domain_name')"
   ]
  },
  {
   "cell_type": "markdown",
   "metadata": {},
   "source": [
    "For domains that are already in the labeled datasets, we use the labels from there."
   ]
  },
  {
   "cell_type": "code",
   "execution_count": 7,
   "metadata": {},
   "outputs": [
    {
     "data": {
      "text/html": [
       "<div>\n",
       "<style scoped>\n",
       "    .dataframe tbody tr th:only-of-type {\n",
       "        vertical-align: middle;\n",
       "    }\n",
       "\n",
       "    .dataframe tbody tr th {\n",
       "        vertical-align: top;\n",
       "    }\n",
       "\n",
       "    .dataframe thead th {\n",
       "        text-align: right;\n",
       "    }\n",
       "</style>\n",
       "<table border=\"1\" class=\"dataframe\">\n",
       "  <thead>\n",
       "    <tr style=\"text-align: right;\">\n",
       "      <th></th>\n",
       "      <th>shalla_2017_cat</th>\n",
       "      <th>trusted_cat</th>\n",
       "      <th>shalla_trusted_porn</th>\n",
       "    </tr>\n",
       "  </thead>\n",
       "  <tbody>\n",
       "    <tr>\n",
       "      <th>0</th>\n",
       "      <td>NaN</td>\n",
       "      <td>UNKNOWN</td>\n",
       "      <td>-1</td>\n",
       "    </tr>\n",
       "    <tr>\n",
       "      <th>1</th>\n",
       "      <td>porn|hobby/games-online</td>\n",
       "      <td>Games</td>\n",
       "      <td>1</td>\n",
       "    </tr>\n",
       "    <tr>\n",
       "      <th>2</th>\n",
       "      <td>NaN</td>\n",
       "      <td>Internet Services</td>\n",
       "      <td>0</td>\n",
       "    </tr>\n",
       "    <tr>\n",
       "      <th>3</th>\n",
       "      <td>NaN</td>\n",
       "      <td>Online Shopping</td>\n",
       "      <td>0</td>\n",
       "    </tr>\n",
       "    <tr>\n",
       "      <th>4</th>\n",
       "      <td>porn</td>\n",
       "      <td>Pornography</td>\n",
       "      <td>1</td>\n",
       "    </tr>\n",
       "  </tbody>\n",
       "</table>\n",
       "</div>"
      ],
      "text/plain": [
       "           shalla_2017_cat        trusted_cat  shalla_trusted_porn\n",
       "0                      NaN            UNKNOWN                   -1\n",
       "1  porn|hobby/games-online              Games                    1\n",
       "2                      NaN  Internet Services                    0\n",
       "3                      NaN    Online Shopping                    0\n",
       "4                     porn        Pornography                    1"
      ]
     },
     "execution_count": 7,
     "metadata": {},
     "output_type": "execute_result"
    }
   ],
   "source": [
    "# -1 for Unknown, 0 - No, 1 - Yes\n",
    "pdf['shalla_trusted_porn'] = 0\n",
    "pdf.loc[pdf.shalla_2017_cat.isnull() & (pdf.trusted_cat.isnull() | (pdf.trusted_cat == 'UNKNOWN')), 'shalla_trusted_porn'] = -1\n",
    "pdf.loc[pdf.shalla_2017_cat.notnull() & pdf.shalla_2017_cat.str.contains('porn', case=False), 'shalla_trusted_porn'] = 1\n",
    "pdf.loc[pdf.trusted_cat.notnull() & pdf.trusted_cat.str.contains('porn', case=False), 'shalla_trusted_porn'] = 1\n",
    "\n",
    "pdf[['shalla_2017_cat', 'trusted_cat', 'shalla_trusted_porn']].head()"
   ]
  },
  {
   "cell_type": "markdown",
   "metadata": {},
   "source": [
    "### Unique domain names"
   ]
  },
  {
   "cell_type": "code",
   "execution_count": 8,
   "metadata": {},
   "outputs": [
    {
     "data": {
      "text/plain": [
       "1011145"
      ]
     },
     "execution_count": 8,
     "metadata": {},
     "output_type": "execute_result"
    }
   ],
   "source": [
    "udf = pdf.drop_duplicates(subset='domain_name').copy()\n",
    "# Total unique domains\n",
    "len(udf)"
   ]
  },
  {
   "cell_type": "markdown",
   "metadata": {},
   "source": [
    "### Total number of domains for which the label must be imputed"
   ]
  },
  {
   "cell_type": "markdown",
   "metadata": {},
   "source": [
    "Curated lists generally only information about the kind of content hosted by a small fraction of domains. Commercial APIs generally are a lot better but still miss a sizable chunk. In Shallist, for instance, only about 22% of the domains in the data have category assigned to them (see below). For Trusted Source, the commensurate number is nearly 86%. In all, we know the category of about 86% of the domains."
   ]
  },
  {
   "cell_type": "code",
   "execution_count": 9,
   "metadata": {
    "scrolled": true
   },
   "outputs": [
    {
     "data": {
      "text/html": [
       "<div>\n",
       "<style scoped>\n",
       "    .dataframe tbody tr th:only-of-type {\n",
       "        vertical-align: middle;\n",
       "    }\n",
       "\n",
       "    .dataframe tbody tr th {\n",
       "        vertical-align: top;\n",
       "    }\n",
       "\n",
       "    .dataframe thead th {\n",
       "        text-align: right;\n",
       "    }\n",
       "</style>\n",
       "<table border=\"1\" class=\"dataframe\">\n",
       "  <thead>\n",
       "    <tr style=\"text-align: right;\">\n",
       "      <th></th>\n",
       "      <th>domain_name</th>\n",
       "    </tr>\n",
       "    <tr>\n",
       "      <th>shalla_cat_porn</th>\n",
       "      <th></th>\n",
       "    </tr>\n",
       "  </thead>\n",
       "  <tbody>\n",
       "    <tr>\n",
       "      <th>-1</th>\n",
       "      <td>0.780723</td>\n",
       "    </tr>\n",
       "    <tr>\n",
       "      <th>0</th>\n",
       "      <td>0.096061</td>\n",
       "    </tr>\n",
       "    <tr>\n",
       "      <th>1</th>\n",
       "      <td>0.123216</td>\n",
       "    </tr>\n",
       "  </tbody>\n",
       "</table>\n",
       "</div>"
      ],
      "text/plain": [
       "                 domain_name\n",
       "shalla_cat_porn             \n",
       "-1                  0.780723\n",
       " 0                  0.096061\n",
       " 1                  0.123216"
      ]
     },
     "execution_count": 9,
     "metadata": {},
     "output_type": "execute_result"
    }
   ],
   "source": [
    "# -1 for Unknown, 0 - No, 1 - Yes\n",
    "udf['shalla_cat_porn'] = -1\n",
    "udf.loc[udf.shalla_2017_cat.notnull() & (udf.shalla_2017_cat.str.contains('unknown', case=False) == False), 'shalla_cat_porn'] = 0\n",
    "udf.loc[udf.shalla_2017_cat.notnull() & udf.shalla_2017_cat.str.contains('porn', case=False), 'shalla_cat_porn'] = 1\n",
    "udf.groupby('shalla_cat_porn').agg({'domain_name': 'count'})/udf.shape[0]"
   ]
  },
  {
   "cell_type": "code",
   "execution_count": 10,
   "metadata": {},
   "outputs": [
    {
     "data": {
      "text/html": [
       "<div>\n",
       "<style scoped>\n",
       "    .dataframe tbody tr th:only-of-type {\n",
       "        vertical-align: middle;\n",
       "    }\n",
       "\n",
       "    .dataframe tbody tr th {\n",
       "        vertical-align: top;\n",
       "    }\n",
       "\n",
       "    .dataframe thead th {\n",
       "        text-align: right;\n",
       "    }\n",
       "</style>\n",
       "<table border=\"1\" class=\"dataframe\">\n",
       "  <thead>\n",
       "    <tr style=\"text-align: right;\">\n",
       "      <th></th>\n",
       "      <th>domain_name</th>\n",
       "    </tr>\n",
       "    <tr>\n",
       "      <th>trusted_cat_porn</th>\n",
       "      <th></th>\n",
       "    </tr>\n",
       "  </thead>\n",
       "  <tbody>\n",
       "    <tr>\n",
       "      <th>-1</th>\n",
       "      <td>0.156131</td>\n",
       "    </tr>\n",
       "    <tr>\n",
       "      <th>0</th>\n",
       "      <td>0.691121</td>\n",
       "    </tr>\n",
       "    <tr>\n",
       "      <th>1</th>\n",
       "      <td>0.152748</td>\n",
       "    </tr>\n",
       "  </tbody>\n",
       "</table>\n",
       "</div>"
      ],
      "text/plain": [
       "                  domain_name\n",
       "trusted_cat_porn             \n",
       "-1                   0.156131\n",
       " 0                   0.691121\n",
       " 1                   0.152748"
      ]
     },
     "execution_count": 10,
     "metadata": {},
     "output_type": "execute_result"
    }
   ],
   "source": [
    "# -1 for Unknown, 0 - No, 1 - Yes\n",
    "udf['trusted_cat_porn'] = -1\n",
    "udf.loc[udf.trusted_cat.notnull() & (udf.trusted_cat.str.contains('unknown', case=False) == False), 'trusted_cat_porn'] = 0\n",
    "udf.loc[udf.trusted_cat.notnull() & udf.trusted_cat.str.contains('porn', case=False), 'trusted_cat_porn'] = 1\n",
    "udf.groupby('trusted_cat_porn').agg({'domain_name': 'count'})/udf.shape[0]"
   ]
  },
  {
   "cell_type": "code",
   "execution_count": 11,
   "metadata": {},
   "outputs": [
    {
     "data": {
      "text/html": [
       "<div>\n",
       "<style scoped>\n",
       "    .dataframe tbody tr th:only-of-type {\n",
       "        vertical-align: middle;\n",
       "    }\n",
       "\n",
       "    .dataframe tbody tr th {\n",
       "        vertical-align: top;\n",
       "    }\n",
       "\n",
       "    .dataframe thead th {\n",
       "        text-align: right;\n",
       "    }\n",
       "</style>\n",
       "<table border=\"1\" class=\"dataframe\">\n",
       "  <thead>\n",
       "    <tr style=\"text-align: right;\">\n",
       "      <th></th>\n",
       "      <th>domain_name</th>\n",
       "    </tr>\n",
       "    <tr>\n",
       "      <th>shalla_trusted_porn</th>\n",
       "      <th></th>\n",
       "    </tr>\n",
       "  </thead>\n",
       "  <tbody>\n",
       "    <tr>\n",
       "      <th>-1</th>\n",
       "      <td>0.154937</td>\n",
       "    </tr>\n",
       "    <tr>\n",
       "      <th>0</th>\n",
       "      <td>0.674917</td>\n",
       "    </tr>\n",
       "    <tr>\n",
       "      <th>1</th>\n",
       "      <td>0.170146</td>\n",
       "    </tr>\n",
       "  </tbody>\n",
       "</table>\n",
       "</div>"
      ],
      "text/plain": [
       "                     domain_name\n",
       "shalla_trusted_porn             \n",
       "-1                      0.154937\n",
       " 0                      0.674917\n",
       " 1                      0.170146"
      ]
     },
     "execution_count": 11,
     "metadata": {},
     "output_type": "execute_result"
    }
   ],
   "source": [
    "udf.groupby('shalla_trusted_porn').agg({'domain_name': 'count'})/udf.shape[0]"
   ]
  },
  {
   "cell_type": "markdown",
   "metadata": {},
   "source": [
    "### Impact of Different Cut-offs\n",
    "\n",
    "Next, we use the labeled data (from Trusted and Shallalist) to pick different probability cut-offs to test how inferences changes. We choose three: one that minimizes FP+FN, one that gives us far fewer FP, and one that gives us far fewer FN. (We cast a wide net.)\n",
    "\n",
    "To get the value that minimizes FP+FN for a particular category in a multi-class prediction problem, we [run an optimization algorithm](https://github.com/soodoku/optimal_softmax_cutoffs)."
   ]
  },
  {
   "cell_type": "code",
   "execution_count": 12,
   "metadata": {},
   "outputs": [
    {
     "data": {
      "text/html": [
       "<div>\n",
       "<style scoped>\n",
       "    .dataframe tbody tr th:only-of-type {\n",
       "        vertical-align: middle;\n",
       "    }\n",
       "\n",
       "    .dataframe tbody tr th {\n",
       "        vertical-align: top;\n",
       "    }\n",
       "\n",
       "    .dataframe thead th {\n",
       "        text-align: right;\n",
       "    }\n",
       "</style>\n",
       "<table border=\"1\" class=\"dataframe\">\n",
       "  <thead>\n",
       "    <tr style=\"text-align: right;\">\n",
       "      <th></th>\n",
       "      <th>shalla_trusted_porn</th>\n",
       "      <th>pred_shalla_2017_prob_porn</th>\n",
       "      <th>pred_toulouse_2017_prob_adult</th>\n",
       "    </tr>\n",
       "  </thead>\n",
       "  <tbody>\n",
       "    <tr>\n",
       "      <th>1</th>\n",
       "      <td>1</td>\n",
       "      <td>0.240971</td>\n",
       "      <td>0.341799</td>\n",
       "    </tr>\n",
       "    <tr>\n",
       "      <th>2</th>\n",
       "      <td>0</td>\n",
       "      <td>0.854591</td>\n",
       "      <td>0.996538</td>\n",
       "    </tr>\n",
       "    <tr>\n",
       "      <th>3</th>\n",
       "      <td>0</td>\n",
       "      <td>0.109746</td>\n",
       "      <td>0.115253</td>\n",
       "    </tr>\n",
       "    <tr>\n",
       "      <th>4</th>\n",
       "      <td>1</td>\n",
       "      <td>0.979598</td>\n",
       "      <td>0.985338</td>\n",
       "    </tr>\n",
       "    <tr>\n",
       "      <th>5</th>\n",
       "      <td>0</td>\n",
       "      <td>0.194238</td>\n",
       "      <td>0.406939</td>\n",
       "    </tr>\n",
       "  </tbody>\n",
       "</table>\n",
       "</div>"
      ],
      "text/plain": [
       "   shalla_trusted_porn  pred_shalla_2017_prob_porn  \\\n",
       "1                    1                    0.240971   \n",
       "2                    0                    0.854591   \n",
       "3                    0                    0.109746   \n",
       "4                    1                    0.979598   \n",
       "5                    0                    0.194238   \n",
       "\n",
       "   pred_toulouse_2017_prob_adult  \n",
       "1                       0.341799  \n",
       "2                       0.996538  \n",
       "3                       0.115253  \n",
       "4                       0.985338  \n",
       "5                       0.406939  "
      ]
     },
     "execution_count": 12,
     "metadata": {},
     "output_type": "execute_result"
    }
   ],
   "source": [
    "# Filter out unknown (-1)\n",
    "odf = udf[udf.shalla_trusted_porn != -1][['shalla_trusted_porn', 'pred_shalla_2017_prob_porn', 'pred_toulouse_2017_prob_adult']].copy()\n",
    "odf.head()"
   ]
  },
  {
   "cell_type": "code",
   "execution_count": 29,
   "metadata": {},
   "outputs": [
    {
     "name": "stdout",
     "output_type": "stream",
     "text": [
      "Probability: 0.1000 Accuracy: 0.45\n",
      "Probability: 0.1000 Accuracy: 0.45\n",
      "Probability: 0.2000 Accuracy: 0.62\n",
      "Probability: 0.3000 Accuracy: 0.74\n",
      "Probability: 0.4000 Accuracy: 0.81\n",
      "Probability: 0.5000 Accuracy: 0.85\n",
      "Probability: 0.6000 Accuracy: 0.88\n",
      "Probability: 0.7000 Accuracy: 0.89\n",
      "Probability: 0.8000 Accuracy: 0.90\n",
      "Probability: 0.8000 Accuracy: 0.90\n",
      "Probability: 0.8400 Accuracy: 0.91\n",
      "Probability: 0.8800 Accuracy: 0.91\n",
      "Probability: 0.9200 Accuracy: 0.91\n",
      "Probability: 1.0000 Accuracy: 0.80\n",
      "Probability: 0.8800 Accuracy: 0.91\n",
      "Probability: 0.9600 Accuracy: 0.91\n",
      "Probability: 0.9000 Accuracy: 0.91\n",
      "Probability: 0.8800 Accuracy: 0.91\n",
      "Probability: 0.9100 Accuracy: 0.91\n",
      "Probability: 0.9200 Accuracy: 0.91\n",
      "Probability: 0.9050 Accuracy: 0.91\n",
      "Probability: 0.9150 Accuracy: 0.91\n",
      "Probability: 0.9075 Accuracy: 0.91\n",
      "Probability: 0.9050 Accuracy: 0.91\n",
      "Probability: 0.9088 Accuracy: 0.91\n",
      "Probability: 0.9100 Accuracy: 0.91\n",
      "Probability: 0.9081 Accuracy: 0.91\n",
      "Probability: 0.9075 Accuracy: 0.91\n",
      "Probability: 0.9084 Accuracy: 0.91\n",
      "Probability: 0.9078 Accuracy: 0.91\n",
      "Probability: 0.9083 Accuracy: 0.91\n",
      "Probability: 0.9083 Accuracy: 0.91\n",
      "Probability: 0.9080 Accuracy: 0.91\n",
      "Probability: 0.9082 Accuracy: 0.91\n",
      "Optimization terminated successfully.\n",
      "         Current function value: 0.090861\n",
      "         Iterations: 12\n",
      "         Function evaluations: 25\n"
     ]
    },
    {
     "data": {
      "text/plain": [
       "0.9081250000000004"
      ]
     },
     "execution_count": 29,
     "metadata": {},
     "output_type": "execute_result"
    }
   ],
   "source": [
    "import optimal_cut_offs\n",
    "\n",
    "optimal_cut_offs.get_probability(odf.shalla_trusted_porn, odf.pred_shalla_2017_prob_porn, 'accuracy', verbose=True)"
   ]
  },
  {
   "cell_type": "code",
   "execution_count": 30,
   "metadata": {},
   "outputs": [
    {
     "name": "stdout",
     "output_type": "stream",
     "text": [
      "Probability: 0.1000 F1 score: 0.41\n",
      "Probability: 0.1000 F1 score: 0.41\n",
      "Probability: 0.2000 F1 score: 0.49\n",
      "Probability: 0.3000 F1 score: 0.58\n",
      "Probability: 0.4000 F1 score: 0.64\n",
      "Probability: 0.5000 F1 score: 0.69\n",
      "Probability: 0.6000 F1 score: 0.71\n",
      "Probability: 0.7000 F1 score: 0.73\n",
      "Probability: 0.8000 F1 score: 0.74\n",
      "Probability: 0.8000 F1 score: 0.74\n",
      "Probability: 0.8400 F1 score: 0.74\n",
      "Probability: 0.8800 F1 score: 0.74\n",
      "Probability: 0.8200 F1 score: 0.74\n",
      "Probability: 0.8000 F1 score: 0.74\n",
      "Probability: 0.8300 F1 score: 0.74\n",
      "Probability: 0.8100 F1 score: 0.74\n",
      "Probability: 0.8250 F1 score: 0.74\n",
      "Probability: 0.8250 F1 score: 0.74\n",
      "Probability: 0.8150 F1 score: 0.74\n",
      "Probability: 0.8225 F1 score: 0.74\n",
      "Probability: 0.8250 F1 score: 0.74\n",
      "Probability: 0.8213 F1 score: 0.75\n",
      "Probability: 0.8200 F1 score: 0.74\n",
      "Probability: 0.8219 F1 score: 0.74\n",
      "Probability: 0.8219 F1 score: 0.74\n",
      "Probability: 0.8206 F1 score: 0.75\n",
      "Probability: 0.8200 F1 score: 0.74\n",
      "Probability: 0.8200 F1 score: 0.74\n",
      "Probability: 0.8209 F1 score: 0.75\n",
      "Probability: 0.8203 F1 score: 0.75\n",
      "Probability: 0.8208 F1 score: 0.75\n",
      "Probability: 0.8208 F1 score: 0.75\n",
      "Probability: 0.8205 F1 score: 0.75\n",
      "Probability: 0.8203 F1 score: 0.75\n",
      "Probability: 0.8203 F1 score: 0.75\n",
      "Probability: 0.8205 F1 score: 0.75\n",
      "Optimization terminated successfully.\n",
      "         Current function value: 0.254963\n",
      "         Iterations: 12\n",
      "         Function evaluations: 27\n"
     ]
    },
    {
     "data": {
      "text/plain": [
       "0.820546875"
      ]
     },
     "execution_count": 30,
     "metadata": {},
     "output_type": "execute_result"
    }
   ],
   "source": [
    "optimal_cut_offs.get_probability(odf.shalla_trusted_porn, odf.pred_shalla_2017_prob_porn, 'f1', verbose=True)"
   ]
  },
  {
   "cell_type": "code",
   "execution_count": null,
   "metadata": {},
   "outputs": [],
   "source": []
  }
 ],
 "metadata": {
  "kernelspec": {
   "display_name": "Python 3",
   "language": "python",
   "name": "python3"
  },
  "language_info": {
   "codemirror_mode": {
    "name": "ipython",
    "version": 3
   },
   "file_extension": ".py",
   "mimetype": "text/x-python",
   "name": "python",
   "nbconvert_exporter": "python",
   "pygments_lexer": "ipython3",
   "version": "3.5.2"
  }
 },
 "nbformat": 4,
 "nbformat_minor": 2
}
